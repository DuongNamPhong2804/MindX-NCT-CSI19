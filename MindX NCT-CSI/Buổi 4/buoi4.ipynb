{
 "cells": [
  {
   "cell_type": "code",
   "execution_count": 1,
   "metadata": {},
   "outputs": [],
   "source": [
    "def merge(arr, left, right, mid):\n",
    "\n",
    "    arr1 = arr[left:mid]\n",
    "    arr2 = arr[mid:right]\n",
    "\n",
    "    n1 = len(arr1)\n",
    "    n2 = len(arr2)\n",
    "    i = j = 0\n",
    "    k = left\n",
    "    while i < n1 and j < n2:\n",
    "        if arr1[i] < arr2[j]:\n",
    "            arr[k] = arr1[i]\n",
    "            i += 1\n",
    "        else:\n",
    "            arr[k] = arr2[j]\n",
    "            j += 1\n",
    "\n",
    "        k += 1\n",
    "    \n",
    "    arr[k: k + n1 - i] = arr1[i: n1]\n",
    "    k += n1 - i\n",
    "    arr[k: k + n2 - j] = arr2[j: n2]\n",
    "\n",
    "def merge_sort(arr, left, right):\n",
    "    if right - left <= 1:\n",
    "        return\n",
    "\n",
    "    mid = (left + right) // 2\n",
    "    merge_sort(arr, left, mid)\n",
    "    merge_sort(arr, mid, right)\n",
    "    merge(arr, left, right, mid)"
   ]
  },
  {
   "cell_type": "code",
   "execution_count": 2,
   "metadata": {},
   "outputs": [],
   "source": [
    "number_list = [12, 11, 13, 5, 6, 7, 1, 96, 3, 2, 4, 99, 100, 500, 50]"
   ]
  },
  {
   "cell_type": "code",
   "execution_count": 3,
   "metadata": {},
   "outputs": [
    {
     "data": {
      "text/plain": [
       "[12, 11, 13, 5, 6, 7, 1, 96, 3, 2, 4, 99, 100, 500, 50]"
      ]
     },
     "execution_count": 3,
     "metadata": {},
     "output_type": "execute_result"
    }
   ],
   "source": [
    "number_copy = number_list.copy()\n",
    "number_copy"
   ]
  },
  {
   "cell_type": "code",
   "execution_count": 4,
   "metadata": {},
   "outputs": [
    {
     "data": {
      "text/plain": [
       "[1, 2, 3, 4, 5, 6, 7, 11, 12, 13, 50, 96, 99, 100, 500]"
      ]
     },
     "execution_count": 4,
     "metadata": {},
     "output_type": "execute_result"
    }
   ],
   "source": [
    "merge_sort(number_copy, 0, len(number_copy))\n",
    "number_copy"
   ]
  },
  {
   "cell_type": "code",
   "execution_count": null,
   "metadata": {},
   "outputs": [],
   "source": [
    "student_score = [\n",
    "    { 'id': 123, 'math': 9.0, 'draw': 9.0},\n",
    "    { 'id': 343, 'math': 9.5, 'draw': 7.0},\n",
    "    { 'id': 153, 'math': 8.0, 'draw': 3.0},\n",
    "    { 'id': 763, 'math': 6.0, 'draw': 9.0},\n",
    "    { 'id': 393, 'math': 7.5, 'draw': 4.0},\n",
    "    { 'id': 143, 'math': 7.0, 'draw': 5.0}\n",
    "]"
   ]
  },
  {
   "cell_type": "code",
   "execution_count": 3,
   "metadata": {},
   "outputs": [],
   "source": [
    "def merge(arr, left, right, mid, key):\n",
    "    arr1 = arr[left:mid]\n",
    "    arr2 = arr[mid:right]\n",
    "\n",
    "    n1 = len(arr1)\n",
    "    n2 = len(arr2)\n",
    "    i = j = 0\n",
    "    k = left\n",
    "    while i < n1 and j < n2:\n",
    "        if arr1[i][key] < arr2[j][key]:\n",
    "            arr[k] = arr1[i]\n",
    "            i += 1\n",
    "        else:\n",
    "            arr[k] = arr2[j]\n",
    "            j += 1\n",
    "\n",
    "        k += 1\n",
    "\n",
    "    arr[k: k + n1 - i] = arr1[i: n1]\n",
    "    k += n1 - i\n",
    "    arr[k: k + n2 - j] = arr2[j: n2]\n",
    "\n",
    "def merge_sort(arr, left, right, key):\n",
    "    if right - left <= 1:\n",
    "        return\n",
    "\n",
    "    mid = (left + right) // 2\n",
    "    merge_sort(arr, left, mid, key)\n",
    "    merge_sort(arr, mid, right, key)\n",
    "    merge(arr, left, right, mid, key)"
   ]
  },
  {
   "cell_type": "code",
   "execution_count": 4,
   "metadata": {},
   "outputs": [
    {
     "data": {
      "text/plain": [
       "[{'id': 763, 'math': 6.0, 'draw': 9.0},\n",
       " {'id': 143, 'math': 7.0, 'draw': 5.0},\n",
       " {'id': 393, 'math': 7.5, 'draw': 4.0},\n",
       " {'id': 153, 'math': 8.0, 'draw': 3.0},\n",
       " {'id': 123, 'math': 9.0, 'draw': 9.0},\n",
       " {'id': 343, 'math': 9.5, 'draw': 7.0}]"
      ]
     },
     "execution_count": 4,
     "metadata": {},
     "output_type": "execute_result"
    }
   ],
   "source": [
    "merge_sort(student_score, 0, len(student_score), 'math')\n",
    "student_score"
   ]
  },
  {
   "cell_type": "code",
   "execution_count": null,
   "metadata": {},
   "outputs": [],
   "source": [
    "#pivot: start arr left\n",
    "def partition(arr, left, right):\n",
    "    pivot = arr[left]\n",
    "    i = left\n",
    "\n",
    "    for j in range(left + 1, right):\n",
    "        if arr[j] < pivot:\n",
    "            i += 1\n",
    "            arr[i], arr[j] = arr[j], arr[i]\n",
    "    arr[i], arr[left] = arr[left], arr[i]\n",
    "    return i\n",
    "\n",
    "def quick_sort(arr, left, right):\n",
    "    if right - left <= 1:\n",
    "        return\n",
    "\n",
    "    pivot = partition(arr, left, right)\n",
    "    quick_sort(arr, left, pivot)\n",
    "    quick_sort(arr, pivot + 1, right)"
   ]
  },
  {
   "cell_type": "code",
   "execution_count": null,
   "metadata": {},
   "outputs": [],
   "source": [
    "#pivot: end arr right\n",
    "def partition(arr, left, right):\n",
    "    pivot = arr[right - 1]\n",
    "    i = left - 1\n",
    "\n",
    "    for j in range(left, right - 1):\n",
    "        if arr[j] < pivot:\n",
    "            i += 1\n",
    "            arr[i], arr[j] = arr[j], arr[i]\n",
    "    arr[i + 1], arr[right - 1] = arr[right - 1], arr[i + 1]\n",
    "    return i + 1\n",
    "\n",
    "def quick_sort(arr, left, right):\n",
    "    if right - left <= 1:\n",
    "        return\n",
    "\n",
    "    pivot = partition(arr, left, right)\n",
    "    quick_sort(arr, left, pivot)\n",
    "    quick_sort(arr, pivot + 1, right)"
   ]
  },
  {
   "cell_type": "code",
   "execution_count": 6,
   "metadata": {},
   "outputs": [],
   "source": [
    "number_list_2 = [12, 11, 13, 5, 6, 7, 1, 96, 3, 2, 4, 99, 100, 500, 50]"
   ]
  },
  {
   "cell_type": "code",
   "execution_count": 7,
   "metadata": {},
   "outputs": [
    {
     "data": {
      "text/plain": [
       "[12, 11, 13, 5, 6, 7, 1, 96, 3, 2, 4, 99, 100, 500, 50]"
      ]
     },
     "execution_count": 7,
     "metadata": {},
     "output_type": "execute_result"
    }
   ],
   "source": [
    "number_copy_2 = number_list_2.copy()\n",
    "number_copy_2"
   ]
  },
  {
   "cell_type": "code",
   "execution_count": 8,
   "metadata": {},
   "outputs": [
    {
     "data": {
      "text/plain": [
       "[1, 2, 3, 4, 5, 6, 7, 11, 12, 13, 50, 96, 99, 100, 500]"
      ]
     },
     "execution_count": 8,
     "metadata": {},
     "output_type": "execute_result"
    }
   ],
   "source": [
    "quick_sort(number_copy_2, 0, len(number_copy_2))\n",
    "number_copy_2"
   ]
  }
 ],
 "metadata": {
  "kernelspec": {
   "display_name": "Python 3",
   "language": "python",
   "name": "python3"
  },
  "language_info": {
   "codemirror_mode": {
    "name": "ipython",
    "version": 3
   },
   "file_extension": ".py",
   "mimetype": "text/x-python",
   "name": "python",
   "nbconvert_exporter": "python",
   "pygments_lexer": "ipython3",
   "version": "3.12.1"
  }
 },
 "nbformat": 4,
 "nbformat_minor": 2
}
