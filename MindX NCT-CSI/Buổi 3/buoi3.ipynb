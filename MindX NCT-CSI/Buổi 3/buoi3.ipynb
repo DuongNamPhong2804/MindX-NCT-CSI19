{
 "cells": [
  {
   "cell_type": "code",
   "execution_count": 1,
   "metadata": {},
   "outputs": [],
   "source": [
    "def selection_sort(data_list):\n",
    "    for i in range(len(data_list)):\n",
    "        min_index = i\n",
    "        for j in range(i + 1, len(data_list)):\n",
    "            if data_list[j] < data_list[min_index]:\n",
    "                min_index = j\n",
    "        if min_index != i:\n",
    "            data_list[i], data_list[min_index] = data_list[min_index], data_list[i]\n"
   ]
  },
  {
   "cell_type": "code",
   "execution_count": 2,
   "metadata": {},
   "outputs": [],
   "source": [
    "number_list = [5, 1, 89, 33, 24, 11, 15, 19, 34, 48, 20, 25, 99, 80, 64]"
   ]
  },
  {
   "cell_type": "code",
   "execution_count": 3,
   "metadata": {},
   "outputs": [
    {
     "data": {
      "text/plain": [
       "[5, 1, 89, 33, 24, 11, 15, 19, 34, 48, 20, 25, 99, 80, 64]"
      ]
     },
     "execution_count": 3,
     "metadata": {},
     "output_type": "execute_result"
    }
   ],
   "source": [
    "number_test = number_list.copy()\n",
    "number_test"
   ]
  },
  {
   "cell_type": "code",
   "execution_count": 4,
   "metadata": {},
   "outputs": [
    {
     "data": {
      "text/plain": [
       "[1, 5, 11, 15, 19, 20, 24, 25, 33, 34, 48, 64, 80, 89, 99]"
      ]
     },
     "execution_count": 4,
     "metadata": {},
     "output_type": "execute_result"
    }
   ],
   "source": [
    "selection_sort(number_test)\n",
    "number_test"
   ]
  }
 ],
 "metadata": {
  "kernelspec": {
   "display_name": "Python 3",
   "language": "python",
   "name": "python3"
  },
  "language_info": {
   "codemirror_mode": {
    "name": "ipython",
    "version": 3
   },
   "file_extension": ".py",
   "mimetype": "text/x-python",
   "name": "python",
   "nbconvert_exporter": "python",
   "pygments_lexer": "ipython3",
   "version": "3.12.1"
  }
 },
 "nbformat": 4,
 "nbformat_minor": 2
}
