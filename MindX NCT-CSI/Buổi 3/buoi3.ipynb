{
 "cells": [
  {
   "cell_type": "code",
   "execution_count": 1,
   "metadata": {},
   "outputs": [],
   "source": [
    "def selection_sort(data_list):\n",
    "    for i in range(len(data_list)):\n",
    "        min_index = i\n",
    "        for j in range(i + 1, len(data_list)):\n",
    "            if data_list[j] < data_list[min_index]:\n",
    "                min_index = j\n",
    "        if min_index != i:\n",
    "            data_list[i], data_list[min_index] = data_list[min_index], data_list[i]\n"
   ]
  },
  {
   "cell_type": "code",
   "execution_count": 3,
   "metadata": {},
   "outputs": [],
   "source": [
    "number_list = [5, 1, 89, 33, 24, 11, 15, 19, 34, 48, 20, 25, 99, 80, 64]"
   ]
  },
  {
   "cell_type": "code",
   "execution_count": 9,
   "metadata": {},
   "outputs": [
    {
     "data": {
      "text/plain": [
       "[5, 1, 89, 33, 24, 11, 15, 19, 34, 48, 20, 25, 99, 80, 64]"
      ]
     },
     "execution_count": 9,
     "metadata": {},
     "output_type": "execute_result"
    }
   ],
   "source": [
    "number_test = number_list.copy()\n",
    "number_test"
   ]
  },
  {
   "cell_type": "code",
   "execution_count": 8,
   "metadata": {},
   "outputs": [
    {
     "ename": "NameError",
     "evalue": "name 'selection_sort' is not defined",
     "output_type": "error",
     "traceback": [
      "\u001b[0;31m---------------------------------------------------------------------------\u001b[0m",
      "\u001b[0;31mNameError\u001b[0m                                 Traceback (most recent call last)",
      "Cell \u001b[0;32mIn[8], line 1\u001b[0m\n\u001b[0;32m----> 1\u001b[0m \u001b[43mselection_sort\u001b[49m(number_test)\n\u001b[1;32m      2\u001b[0m number_test\n",
      "\u001b[0;31mNameError\u001b[0m: name 'selection_sort' is not defined"
     ]
    }
   ],
   "source": [
    "selection_sort(number_test)\n",
    "number_test"
   ]
  },
  {
   "cell_type": "code",
   "execution_count": 5,
   "metadata": {},
   "outputs": [],
   "source": [
    "def bubble_sort(data_list):\n",
    "    for i in range(len(data_list) -1, 0, -1):\n",
    "        for j in range(i):\n",
    "            if data_list[j] > data_list[j + 1]:\n",
    "                data_list[j], data_list[j + 1] = data_list[j + 1], data_list[j]"
   ]
  },
  {
   "cell_type": "code",
   "execution_count": 8,
   "metadata": {},
   "outputs": [
    {
     "data": {
      "text/plain": [
       "[5, 1, 89, 33, 24, 11, 15, 19, 34, 48, 20, 25, 99, 80, 64]"
      ]
     },
     "execution_count": 8,
     "metadata": {},
     "output_type": "execute_result"
    }
   ],
   "source": [
    "number_test = number_list.copy()\n",
    "number_test"
   ]
  },
  {
   "cell_type": "code",
   "execution_count": 7,
   "metadata": {},
   "outputs": [
    {
     "data": {
      "text/plain": [
       "[1, 5, 11, 15, 19, 20, 24, 25, 33, 34, 48, 64, 80, 89, 99]"
      ]
     },
     "execution_count": 7,
     "metadata": {},
     "output_type": "execute_result"
    }
   ],
   "source": [
    "bubble_sort(number_test)\n",
    "number_test"
   ]
  },
  {
   "cell_type": "code",
   "execution_count": 1,
   "metadata": {},
   "outputs": [],
   "source": [
    "def is_bigger(num1, num2):\n",
    "    return num1 > num2\n",
    "\n",
    "def is_smaller(num1, num2):\n",
    "    return num1 < num2\n",
    "\n",
    "def bubble_sort_option(data_list, ascending):\n",
    "    flag = None\n",
    "    if ascending:\n",
    "        flag = is_bigger\n",
    "    else:\n",
    "        flag = is_smaller\n",
    "\n",
    "    for i in range(len(data_list) -1, 0, -1):\n",
    "        for j in range(i):\n",
    "            if flag(data_list[j], data_list[j + 1]):\n",
    "                data_list[j], data_list[j + 1] = data_list[j + 1], data_list[j]"
   ]
  },
  {
   "cell_type": "code",
   "execution_count": 10,
   "metadata": {},
   "outputs": [
    {
     "data": {
      "text/plain": [
       "[99, 89, 80, 64, 48, 34, 33, 25, 24, 20, 19, 15, 11, 5, 1]"
      ]
     },
     "execution_count": 10,
     "metadata": {},
     "output_type": "execute_result"
    }
   ],
   "source": [
    "bubble_sort_option(number_test, False)\n",
    "number_test"
   ]
  },
  {
   "cell_type": "code",
   "execution_count": 11,
   "metadata": {},
   "outputs": [
    {
     "data": {
      "text/plain": [
       "[1, 5, 11, 15, 19, 20, 24, 25, 33, 34, 48, 64, 80, 89, 99]"
      ]
     },
     "execution_count": 11,
     "metadata": {},
     "output_type": "execute_result"
    }
   ],
   "source": [
    "bubble_sort_option(number_test, True)\n",
    "number_test"
   ]
  },
  {
   "cell_type": "code",
   "execution_count": 12,
   "metadata": {},
   "outputs": [],
   "source": [
    "def insertion_sort(data_list):\n",
    "    for i in range(1, len(data_list)):\n",
    "        j = i\n",
    "        while j > 0 and data_list[j] < data_list[j - 1]:\n",
    "            data_list[j], data_list[j - 1] = data_list[j - 1], data_list[j]\n",
    "            j -= 1"
   ]
  },
  {
   "cell_type": "code",
   "execution_count": 10,
   "metadata": {},
   "outputs": [
    {
     "data": {
      "text/plain": [
       "[5, 1, 89, 33, 24, 11, 15, 19, 34, 48, 20, 25, 99, 80, 64]"
      ]
     },
     "execution_count": 10,
     "metadata": {},
     "output_type": "execute_result"
    }
   ],
   "source": [
    "number_test = number_list.copy()\n",
    "number_test"
   ]
  },
  {
   "cell_type": "code",
   "execution_count": 11,
   "metadata": {},
   "outputs": [
    {
     "ename": "NameError",
     "evalue": "name 'insertion_sort' is not defined",
     "output_type": "error",
     "traceback": [
      "\u001b[0;31m---------------------------------------------------------------------------\u001b[0m",
      "\u001b[0;31mNameError\u001b[0m                                 Traceback (most recent call last)",
      "Cell \u001b[0;32mIn[11], line 1\u001b[0m\n\u001b[0;32m----> 1\u001b[0m \u001b[43minsertion_sort\u001b[49m(number_test)\n\u001b[1;32m      2\u001b[0m number_test\n",
      "\u001b[0;31mNameError\u001b[0m: name 'insertion_sort' is not defined"
     ]
    }
   ],
   "source": [
    "insertion_sort(number_test)\n",
    "number_test"
   ]
  },
  {
   "cell_type": "code",
   "execution_count": null,
   "metadata": {},
   "outputs": [],
   "source": [
    "current_score = [(123, 20), (224, 30), (345, 40), (456, 50)]\n",
    "update_score = [(224, 25), (345, 35), (456, 55)]\n",
    "result_score = []"
   ]
  }
 ],
 "metadata": {
  "kernelspec": {
   "display_name": "Python 3",
   "language": "python",
   "name": "python3"
  },
  "language_info": {
   "codemirror_mode": {
    "name": "ipython",
    "version": 3
   },
   "file_extension": ".py",
   "mimetype": "text/x-python",
   "name": "python",
   "nbconvert_exporter": "python",
   "pygments_lexer": "ipython3",
   "version": "3.12.1"
  }
 },
 "nbformat": 4,
 "nbformat_minor": 2
}
