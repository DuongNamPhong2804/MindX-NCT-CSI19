{
 "cells": [
  {
   "cell_type": "code",
   "execution_count": 2,
   "metadata": {},
   "outputs": [
    {
     "name": "stdout",
     "output_type": "stream",
     "text": [
      "Khởi tạo stack: deque(['a', 'b', 'c'])\n",
      "Sau khi thêm phần tử vào stack: deque(['a', 'b', 'c', 'd'])\n",
      "Sau khi xóa phần tử của stack: deque(['a', 'b', 'c'])\n",
      "Giá trị cuối của stack: c\n"
     ]
    }
   ],
   "source": [
    "from collections import deque\n",
    "\n",
    "#khởi tạo stack\n",
    "stack = deque(('a', 'b', 'c'))\n",
    "print(\"Khởi tạo stack: {}\".format(stack))\n",
    "\n",
    "#Thêm một phần tử vào stack\n",
    "stack.append('d')\n",
    "print(\"Sau khi thêm phần tử vào stack: {}\".format(stack))\n",
    "\n",
    "#Xóa phần tử của stack\n",
    "stack.pop()\n",
    "print(\"Sau khi xóa phần tử của stack: {}\".format(stack))\n",
    "\n",
    "#Xem giá trị cuối của stack\n",
    "print(\"Giá trị cuối của stack: {}\".format(stack[-1]))"
   ]
  },
  {
   "cell_type": "code",
   "execution_count": 5,
   "metadata": {},
   "outputs": [
    {
     "name": "stdout",
     "output_type": "stream",
     "text": [
      "True\n",
      "False\n",
      "False\n"
     ]
    }
   ],
   "source": [
    "from collections import deque\n",
    "def check_vaild(squnence):\n",
    "\n",
    "    stack = deque()\n",
    "\n",
    "    for par in squnence:\n",
    "        if par == '(':\n",
    "            stack.append(par)\n",
    "        else:\n",
    "            if len(stack) >0:\n",
    "                stack.pop()\n",
    "            else:\n",
    "                return False\n",
    "    return len(stack) == 0\n",
    "\n",
    "print(check_vaild(\"()()()(((())))\"))\n",
    "print(check_vaild(\")(((((())))))( \"))\n",
    "print(check_vaild(\"((()))(())(((( \"))"
   ]
  },
  {
   "cell_type": "code",
   "execution_count": 6,
   "metadata": {},
   "outputs": [
    {
     "name": "stdout",
     "output_type": "stream",
     "text": [
      "Khởi tạo queue: deque(['x', 'y', 'z'])\n",
      "Thêm phần tử cuối vào queue: deque(['x', 'y', 'z', 'k'])\n",
      "Sau khi lấy phần tử đầu của queue: deque(['y', 'z', 'k'])\n"
     ]
    }
   ],
   "source": [
    "from collections import deque\n",
    "\n",
    "#Khởi tạo queue\n",
    "queue = deque(('x', 'y', 'z'))\n",
    "print(\"Khởi tạo queue: {}\".format(queue))\n",
    "\n",
    "#Thêm phần tử cuối vào queue\n",
    "queue.append('k')\n",
    "print(\"Thêm phần tử cuối vào queue: {}\".format(queue))\n",
    "\n",
    "#Lấy phần tử đầu tiên của queue\n",
    "queue.popleft()\n",
    "print(\"Sau khi lấy phần tử đầu của queue: {}\".format(queue))"
   ]
  },
  {
   "cell_type": "code",
   "execution_count": 9,
   "metadata": {},
   "outputs": [
    {
     "name": "stdout",
     "output_type": "stream",
     "text": [
      "Khởi tạo deque: deque(['i', 'n', 'd'])\n",
      "Thêm phần tử vào cuối dãy dequeue: deque(['i', 'n', 'd', 'X'])\n",
      "Thêm phần tử vào đầu dãy dequeue: deque(['M', 'i', 'n', 'd', 'X'])\n",
      "Xóa phần tử đầu dãy của dequeue: deque(['i', 'n', 'd', 'X'])\n",
      "Giá trị đầu dãy của dequeue: i\n",
      "Giá trị cuối dãy của dequeue: X\n"
     ]
    }
   ],
   "source": [
    "from collections import deque\n",
    "\n",
    "#Khởi tạo dequeue\n",
    "deq = deque(('i', 'n', 'd'))\n",
    "print(\"Khởi tạo deque: {}\".format(deq))\n",
    "\n",
    "#Thêm phần tử vào deque\n",
    "deq.append('X')\n",
    "print(\"Thêm phần tử vào cuối dãy dequeue: {}\".format(deq))\n",
    "deq.appendleft('M')\n",
    "print(\"Thêm phần tử vào đầu dãy dequeue: {}\".format(deq))\n",
    "deq.popleft()\n",
    "print(\"Xóa phần tử đầu dãy của dequeue: {}\".format(deq))\n",
    "\n",
    "#Lấy giá trị đầu cuối của dequeue\n",
    "print(\"Giá trị đầu dãy của dequeue: {}\".format(deq[0]))\n",
    "print(\"Giá trị cuối dãy của dequeue: {}\".format(deq[-1]))"
   ]
  },
  {
   "cell_type": "code",
   "execution_count": null,
   "metadata": {},
   "outputs": [
    {
     "name": "stdout",
     "output_type": "stream",
     "text": [
      "True\n",
      "False\n",
      "False\n"
     ]
    }
   ],
   "source": [
    "from collections import deque\n",
    "\n",
    "def check_vaild(squnence):\n",
    "    \n",
    "    stack = deque()\n",
    "\n",
    "    for par in squnence:\n",
    "        if par in ['(', '[', '{']:\n",
    "            stack.append(par)\n",
    "        else:\n",
    "            if len(stack) >0:\n",
    "                stack.pop()\n",
    "            else:\n",
    "                return False\n",
    "    return len(stack) == 0\n",
    "\n",
    "print(check_vaild(\"([{}]){[]}\"))\n",
    "print(check_vaild(\"()(){{{}\"))\n",
    "print(check_vaild(\"{}{}()]\"))"
   ]
  }
 ],
 "metadata": {
  "kernelspec": {
   "display_name": "Python 3",
   "language": "python",
   "name": "python3"
  },
  "language_info": {
   "codemirror_mode": {
    "name": "ipython",
    "version": 3
   },
   "file_extension": ".py",
   "mimetype": "text/x-python",
   "name": "python",
   "nbconvert_exporter": "python",
   "pygments_lexer": "ipython3",
   "version": "3.12.1"
  }
 },
 "nbformat": 4,
 "nbformat_minor": 2
}
