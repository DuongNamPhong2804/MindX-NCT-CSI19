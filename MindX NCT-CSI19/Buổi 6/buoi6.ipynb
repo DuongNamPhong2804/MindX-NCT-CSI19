{
 "cells": [
  {
   "cell_type": "code",
   "execution_count": null,
   "metadata": {},
   "outputs": [],
   "source": [
    "def counting_sort(arr):\n",
    "    if len(arr) <= 1:\n",
    "        return\n",
    "    \n",
    "    min_value = min(arr)\n",
    "    max_value = max(arr)\n",
    "    \n",
    "    range_of_elements = max_value - min_value + 1\n",
    "\n",
    "    count = [0] * range_of_elements\n",
    "    for el in arr:\n",
    "        count[el - min_value] += 1\n",
    "\n",
    "    index = 0\n",
    "    for i in range(range_of_elements):\n",
    "        for j in range(count[i]):\n",
    "            arr[index] = i + min_value\n",
    "            index += 1"
   ]
  },
  {
   "cell_type": "code",
   "execution_count": 12,
   "metadata": {},
   "outputs": [],
   "source": [
    "arr = [4, 2, 2, 8, 3, 3, 1]"
   ]
  },
  {
   "cell_type": "code",
   "execution_count": 13,
   "metadata": {},
   "outputs": [
    {
     "data": {
      "text/plain": [
       "[1, 2, 2, 3, 3, 4, 8]"
      ]
     },
     "execution_count": 13,
     "metadata": {},
     "output_type": "execute_result"
    }
   ],
   "source": [
    "arr_test = arr.copy()\n",
    "counting_sort(arr_test)\n",
    "arr_test"
   ]
  },
  {
   "cell_type": "code",
   "execution_count": 24,
   "metadata": {},
   "outputs": [],
   "source": [
    "arr_2 = [4, -12, -98, -500, -123, 0, 5, 3, 2, 2, 8, 3, 3, 1, -99, -100]"
   ]
  },
  {
   "cell_type": "code",
   "execution_count": 26,
   "metadata": {},
   "outputs": [
    {
     "data": {
      "text/plain": [
       "[-500, -123, -100, -99, -98, -12, 0, 1, 2, 2, 3, 3, 3, 4, 5, 8]"
      ]
     },
     "execution_count": 26,
     "metadata": {},
     "output_type": "execute_result"
    }
   ],
   "source": [
    "arr_test_2 = arr_2.copy()\n",
    "counting_sort(arr_test_2)\n",
    "arr_test_2"
   ]
  },
  {
   "cell_type": "code",
   "execution_count": 23,
   "metadata": {},
   "outputs": [],
   "source": [
    "def counting_sort_by_key(arr, key):\n",
    "    if len(arr) <= 1:\n",
    "        return\n",
    "    \n",
    "    min_value = min(arr, key=lambda x: x[key])[key]\n",
    "    max_value = max(arr, key=lambda x: x[key])[key]\n",
    "\n",
    "    range_of_elements = max_value - min_value + 1\n",
    "\n",
    "    count = [0] * range_of_elements\n",
    "    output = [0] * len(arr)\n",
    "    \n",
    "    for el in arr:\n",
    "        count[el[key] - min_value] += 1\n",
    "\n",
    "    for i in range(1, len(count)):\n",
    "        count[i] += count[i - 1]\n",
    "\n",
    "    for el in reversed(arr):\n",
    "        output[count[el[key] - min_value] - 1] = el\n",
    "        count[el[key] - min_value] -= 1\n",
    "\n",
    "    for i in range(len(arr)):\n",
    "        arr[i] = output[i]\n"
   ]
  },
  {
   "cell_type": "code",
   "execution_count": 24,
   "metadata": {},
   "outputs": [],
   "source": [
    "student_grade_list = [\n",
    "    {'id': 984, 'math': 9},\n",
    "    {'id': 12, 'math': 10},\n",
    "    {'id': 324, 'math': 10},\n",
    "    {'id': 890, 'math': 5},\n",
    "    {'id': 223, 'math': 8},\n",
    "    {'id': 543, 'math': 8}\n",
    "]"
   ]
  },
  {
   "cell_type": "code",
   "execution_count": 25,
   "metadata": {},
   "outputs": [
    {
     "data": {
      "text/plain": [
       "[{'id': 890, 'math': 5},\n",
       " {'id': 223, 'math': 8},\n",
       " {'id': 543, 'math': 8},\n",
       " {'id': 984, 'math': 9},\n",
       " {'id': 12, 'math': 10},\n",
       " {'id': 324, 'math': 10}]"
      ]
     },
     "execution_count": 25,
     "metadata": {},
     "output_type": "execute_result"
    }
   ],
   "source": [
    "student_grade_list_test = student_grade_list.copy()\n",
    "counting_sort_by_key(student_grade_list_test, 'math')\n",
    "student_grade_list_test"
   ]
  }
 ],
 "metadata": {
  "kernelspec": {
   "display_name": "Python 3",
   "language": "python",
   "name": "python3"
  },
  "language_info": {
   "codemirror_mode": {
    "name": "ipython",
    "version": 3
   },
   "file_extension": ".py",
   "mimetype": "text/x-python",
   "name": "python",
   "nbconvert_exporter": "python",
   "pygments_lexer": "ipython3",
   "version": "3.12.1"
  }
 },
 "nbformat": 4,
 "nbformat_minor": 2
}
